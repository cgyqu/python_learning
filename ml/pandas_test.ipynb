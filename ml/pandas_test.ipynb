{
 "metadata": {
  "language_info": {
   "codemirror_mode": {
    "name": "ipython",
    "version": 3
   },
   "file_extension": ".py",
   "mimetype": "text/x-python",
   "name": "python",
   "nbconvert_exporter": "python",
   "pygments_lexer": "ipython3",
   "version": "3.6.8-final"
  },
  "orig_nbformat": 2,
  "kernelspec": {
   "name": "python3",
   "display_name": "Python 3"
  }
 },
 "nbformat": 4,
 "nbformat_minor": 2,
 "cells": [
  {
   "cell_type": "code",
   "execution_count": 2,
   "metadata": {},
   "outputs": [],
   "source": [
    "import pandas as pd"
   ]
  },
  {
   "cell_type": "code",
   "execution_count": 3,
   "metadata": {},
   "outputs": [],
   "source": [
    "APP_DIR = os.path.dirname(os.path.realpath('__file__'))\n",
    "base_dir = os.path.dirname(APP_DIR)"
   ]
  },
  {
   "cell_type": "code",
   "execution_count": 46,
   "metadata": {},
   "outputs": [],
   "source": [
    "file_path = f'{base_dir}/data/hotel_train3.txt'\n",
    "df = pd.read_csv(file_path,sep='\\t')"
   ]
  },
  {
   "cell_type": "code",
   "execution_count": 47,
   "metadata": {},
   "outputs": [
    {
     "output_type": "execute_result",
     "data": {
      "text/plain": [
       "        id   category              ask\n",
       "0        1  hotelname  刚刚订单的酒店名称忘了帮我查下\n",
       "1        2  hotelname          用订单号查酒店\n",
       "2        3  hotelname  我现在还不知道我住的酒店名字 \n",
       "3        4  hotelname           酒店名称忘了\n",
       "4        5  hotelname       预定的酒店的名字没有\n",
       "...    ...        ...              ...\n",
       "4298  4302       star               等级\n",
       "4299  4303  breakfast             是否有早\n",
       "4300  4304  breakfast          是否有免费早餐\n",
       "4301  4305  breakfast          有没有免费早餐\n",
       "4302  4306  breakfast            早餐免费吗\n",
       "\n",
       "[4303 rows x 3 columns]"
      ],
      "text/html": "<div>\n<style scoped>\n    .dataframe tbody tr th:only-of-type {\n        vertical-align: middle;\n    }\n\n    .dataframe tbody tr th {\n        vertical-align: top;\n    }\n\n    .dataframe thead th {\n        text-align: right;\n    }\n</style>\n<table border=\"1\" class=\"dataframe\">\n  <thead>\n    <tr style=\"text-align: right;\">\n      <th></th>\n      <th>id</th>\n      <th>category</th>\n      <th>ask</th>\n    </tr>\n  </thead>\n  <tbody>\n    <tr>\n      <th>0</th>\n      <td>1</td>\n      <td>hotelname</td>\n      <td>刚刚订单的酒店名称忘了帮我查下</td>\n    </tr>\n    <tr>\n      <th>1</th>\n      <td>2</td>\n      <td>hotelname</td>\n      <td>用订单号查酒店</td>\n    </tr>\n    <tr>\n      <th>2</th>\n      <td>3</td>\n      <td>hotelname</td>\n      <td>我现在还不知道我住的酒店名字</td>\n    </tr>\n    <tr>\n      <th>3</th>\n      <td>4</td>\n      <td>hotelname</td>\n      <td>酒店名称忘了</td>\n    </tr>\n    <tr>\n      <th>4</th>\n      <td>5</td>\n      <td>hotelname</td>\n      <td>预定的酒店的名字没有</td>\n    </tr>\n    <tr>\n      <th>...</th>\n      <td>...</td>\n      <td>...</td>\n      <td>...</td>\n    </tr>\n    <tr>\n      <th>4298</th>\n      <td>4302</td>\n      <td>star</td>\n      <td>等级</td>\n    </tr>\n    <tr>\n      <th>4299</th>\n      <td>4303</td>\n      <td>breakfast</td>\n      <td>是否有早</td>\n    </tr>\n    <tr>\n      <th>4300</th>\n      <td>4304</td>\n      <td>breakfast</td>\n      <td>是否有免费早餐</td>\n    </tr>\n    <tr>\n      <th>4301</th>\n      <td>4305</td>\n      <td>breakfast</td>\n      <td>有没有免费早餐</td>\n    </tr>\n    <tr>\n      <th>4302</th>\n      <td>4306</td>\n      <td>breakfast</td>\n      <td>早餐免费吗</td>\n    </tr>\n  </tbody>\n</table>\n<p>4303 rows × 3 columns</p>\n</div>"
     },
     "metadata": {},
     "execution_count": 47
    }
   ],
   "source": [
    "# 填充nan为默认值0\n",
    "# df1.dropna(how='any') 剔除包含nan的数据\n",
    "df.fillna(value=0)\n",
    "df"
   ]
  },
  {
   "source": [
    "操作|\t句法\t|结果\n",
    "--|--|--\n",
    "选择列\t|df[[col]]|\tSeries\n",
    "用标签选择行\t|df.loc[[label]]\t|Series\n",
    "用整数位置选择行\t|df.iloc[[loc]]|\tSeries\n",
    "行切片\t|df[[5:10]]|\tDataFrame\n",
    "用布尔向量选择行|\tdf[[bool_vec]]\t|DataFrame"
   ],
   "cell_type": "markdown",
   "metadata": {}
  },
  {
   "cell_type": "code",
   "execution_count": 48,
   "metadata": {},
   "outputs": [
    {
     "output_type": "execute_result",
     "data": {
      "text/plain": [
       "0    1\n",
       "1    2\n",
       "2    3\n",
       "3    4\n",
       "4    5\n",
       "Name: id, dtype: int64"
      ]
     },
     "metadata": {},
     "execution_count": 48
    }
   ],
   "source": [
    "df['id'].head()"
   ]
  },
  {
   "cell_type": "code",
   "execution_count": 49,
   "metadata": {},
   "outputs": [
    {
     "output_type": "stream",
     "name": "stdout",
     "text": [
      "id                        1\ncategory          hotelname\nask         刚刚订单的酒店名称忘了帮我查下\nName: 0, dtype: object\n   id   category              ask\n0   1  hotelname  刚刚订单的酒店名称忘了帮我查下\n1   2  hotelname          用订单号查酒店\n2   3  hotelname  我现在还不知道我住的酒店名字 \n3   4  hotelname           酒店名称忘了\n4   5  hotelname       预定的酒店的名字没有\n"
     ]
    }
   ],
   "source": [
    "print(df.iloc[0])\n",
    "\n",
    "print(df[0:5])"
   ]
  },
  {
   "cell_type": "code",
   "execution_count": null,
   "metadata": {},
   "outputs": [],
   "source": []
  }
 ]
}