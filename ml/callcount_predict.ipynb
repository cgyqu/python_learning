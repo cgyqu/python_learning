{
 "metadata": {
  "language_info": {
   "codemirror_mode": {
    "name": "ipython",
    "version": 3
   },
   "file_extension": ".py",
   "mimetype": "text/x-python",
   "name": "python",
   "nbconvert_exporter": "python",
   "pygments_lexer": "ipython3",
   "version": "3.6.8-final"
  },
  "orig_nbformat": 2,
  "kernelspec": {
   "name": "python3",
   "display_name": "Python 3"
  }
 },
 "nbformat": 4,
 "nbformat_minor": 2,
 "cells": [
  {
   "cell_type": "code",
   "execution_count": null,
   "metadata": {},
   "outputs": [],
   "source": [
    "from keras.models import load_model\n",
    "from keras.models import Sequential\n",
    "from keras.layers import LSTM\n",
    "from keras.layers import Dense\n",
    "import pandas as pd\n",
    "import matplotlib.pyplot as plt\n",
    "import numpy as np\n",
    "import os\n",
    "import time\n",
    "from sklearn.preprocessing import StandardScaler\n",
    "from sklearn.preprocessing import MinMaxScaler\n",
    "from sklearn.model_selection import train_test_split"
   ]
  },
  {
   "cell_type": "code",
   "execution_count": null,
   "metadata": {},
   "outputs": [],
   "source": [
    "APP_DIR = os.path.dirname(os.path.realpath('__file__'))\n",
    "base_dir = os.path.dirname(APP_DIR)\n",
    "windows_size = 48\n",
    "n_features = 3\n",
    "n_step_out = 3\n",
    "model_path = f'{base_dir}/data/hotel_call_predict.h5'\n",
    "scaler_path = f'{base_dir}/data/hotel_call_scaler.npy'"
   ]
  },
  {
   "cell_type": "code",
   "execution_count": null,
   "metadata": {},
   "outputs": [],
   "source": [
    "#import datetime\n",
    "#def parse(x):\n",
    "#    arr = x.split(' ')\n",
    "#    hour = str(int(int(arr[-1])/60))\n",
    "#    min = str(int(arr[-1])%60)\n",
    "#    arr[-1] = hour\n",
    "#    arr.append(min)\n",
    "#    time = ' '.join(arr)\n",
    "#    return datetime.datetime.strptime(time, '%Y %m %d %H %M')\n",
    "#path = f'{base_dir}//data//hotel_call_test.csv'\n",
    "#df = pd.read_csv(path, parse_dates = [['Date', 'Month','Day','Time']], index_col=0, date_parser=parse)\n",
    "#df.index.name = 'date_time'\n",
    "#df = df.sort_values('date_time')\n",
    "#df = df.loc[:, ['ProductRate','AHT', 'TotalCount']]\n",
    "#df.to_csv(f'{base_dir}//data//hotel_call_datetime_test.csv')\n",
    "#df"
   ]
  },
  {
   "cell_type": "code",
   "execution_count": null,
   "metadata": {},
   "outputs": [],
   "source": [
    "# show data trend\n",
    "def getPlotData():\n",
    "    path = f'{base_dir}//data//hotel_call_datetime.csv'\n",
    "    df = pd.read_csv(path)\n",
    "    X = list()\n",
    "    Y = list()\n",
    "    for row_index, row in df.iterrows():\n",
    "        if(row_index > 48*30):\n",
    "            break\n",
    "        try:\n",
    "            x = str(row[0])\n",
    "            y = row[3]\n",
    "            X.append(x)\n",
    "            Y.append(y)\n",
    "        except Exception as ex:\n",
    "            print(\"error row ,index:\" , row_index)\n",
    "    return X,Y \n",
    "x,y = getPlotData()\n",
    "plt.plot(x,y)\n",
    "plt.show()"
   ]
  },
  {
   "cell_type": "code",
   "execution_count": null,
   "metadata": {},
   "outputs": [],
   "source": [
    "def loadData(filepath):\n",
    "    frame = []\n",
    "    for file in filepath:\n",
    "        path = f'{base_dir}//data//{file}'\n",
    "        frame.append(pd.read_csv(path,index_col=0))\n",
    "    df = pd.concat(frame)\n",
    "    scaler = MinMaxScaler(feature_range=(0, 1))\n",
    "    scaled = scaler.fit_transform(df)\n",
    "    data_size = len(scaled)\n",
    "    X = list()\n",
    "    Y = list()\n",
    "    for i in range(data_size - windows_size - n_step_out):\n",
    "        end = i + windows_size\n",
    "        X.append(scaled[i:end, :])\n",
    "        Y.append(scaled[end:end + n_step_out,-1].reshape(3))\n",
    "    # 保存归一化参数\n",
    "    np.save(scaler_path,scaler)\n",
    "    return np.array(X), np.array(Y),df"
   ]
  },
  {
   "cell_type": "code",
   "execution_count": null,
   "metadata": {},
   "outputs": [],
   "source": [
    "print(\"prepare data...\")\n",
    "X, Y,df = loadData([\"hotel_call_datetime.csv\",\"hotel_call_datetime_test.csv\"])\n",
    "print(X.shape,Y.shape)\n",
    "train_size = int(len(X)*0.8)\n",
    "train_x = X[0:train_size,:,:]\n",
    "train_y = Y[0:train_size,:]\n",
    "test_x = X[train_size:-1,:,:]\n",
    "test_y = Y[train_size:-1,:]\n",
    "print(train_x.shape,test_x.shape)\n",
    "print(train_y.shape,test_y.shape)\n",
    "#train_x, test_x, train_y, test_y = train_test_split(X, Y, test_size=0.2)\n",
    "print(\"prepare data complete.\")\n",
    "df"
   ]
  },
  {
   "cell_type": "code",
   "execution_count": 15,
   "metadata": {},
   "outputs": [],
   "source": [
    "def getModel():\n",
    "    print(\"create model...\")\n",
    "    model = Sequential()\n",
    "    model.add(LSTM(100, activation='relu', return_sequences=True,\n",
    "                   input_shape=(windows_size, n_features),dropout=0.2))\n",
    "    model.add(LSTM(100, activation='relu',dropout=0.2))\n",
    "    model.add(Dense(n_step_out))\n",
    "    model.compile(optimizer='adam', loss='mse')\n",
    "    print(\"create model complete.\")\n",
    "    return model"
   ]
  },
  {
   "cell_type": "code",
   "execution_count": 16,
   "metadata": {},
   "outputs": [
    {
     "output_type": "stream",
     "name": "stdout",
     "text": [
      "strat training...\n",
      "create model...\n",
      "create model complete.\n",
      "train_x.shape (13168, 48, 3) train_y.shape (13168, 3)\n",
      "test_x.shape (3291, 48, 3) test_y.shape (3291, 3)\n",
      "windows_size: 48\n",
      "n_features 3\n",
      "Epoch 1/50\n",
      "264/264 [==============================] - 16s 60ms/step - loss: 0.0014 - val_loss: 0.0014\n",
      "Epoch 2/50\n",
      "264/264 [==============================] - 16s 62ms/step - loss: 0.0013 - val_loss: 0.0010\n",
      "Epoch 3/50\n",
      "264/264 [==============================] - 16s 61ms/step - loss: 0.0019 - val_loss: 0.0012\n",
      "Epoch 4/50\n",
      "264/264 [==============================] - 16s 61ms/step - loss: 0.0019 - val_loss: 9.5188e-04\n",
      "Epoch 5/50\n",
      "264/264 [==============================] - 16s 61ms/step - loss: 0.0010 - val_loss: 0.0010\n",
      "Epoch 6/50\n",
      "264/264 [==============================] - 16s 59ms/step - loss: 8.7193e-04 - val_loss: 0.0011\n",
      "Epoch 7/50\n",
      "264/264 [==============================] - 16s 59ms/step - loss: 7.3602e-04 - val_loss: 0.0012\n",
      "Epoch 8/50\n",
      "264/264 [==============================] - 16s 61ms/step - loss: 7.2896e-04 - val_loss: 7.3415e-04\n",
      "Epoch 9/50\n",
      "264/264 [==============================] - 16s 61ms/step - loss: 6.4544e-04 - val_loss: 9.2962e-04\n",
      "Epoch 10/50\n",
      "264/264 [==============================] - 16s 61ms/step - loss: 6.2794e-04 - val_loss: 9.1524e-04\n",
      "Epoch 11/50\n",
      "264/264 [==============================] - 16s 61ms/step - loss: 5.7869e-04 - val_loss: 5.9486e-04\n",
      "Epoch 12/50\n",
      "264/264 [==============================] - 16s 61ms/step - loss: 5.0299e-04 - val_loss: 5.3480e-04\n",
      "Epoch 13/50\n",
      "264/264 [==============================] - 16s 60ms/step - loss: 5.2791e-04 - val_loss: 7.7362e-04\n",
      "Epoch 14/50\n",
      "264/264 [==============================] - 16s 61ms/step - loss: 4.6618e-04 - val_loss: 8.8021e-04\n",
      "Epoch 15/50\n",
      "264/264 [==============================] - 16s 59ms/step - loss: 3.6379e-04 - val_loss: 3.8357e-04\n",
      "Epoch 16/50\n",
      "264/264 [==============================] - 15s 57ms/step - loss: 4.0350e-04 - val_loss: 2.4632e-04\n",
      "Epoch 17/50\n",
      "264/264 [==============================] - 15s 56ms/step - loss: 2.9957e-04 - val_loss: 6.8683e-04\n",
      "Epoch 18/50\n",
      "264/264 [==============================] - 14s 54ms/step - loss: 3.0220e-04 - val_loss: 3.2740e-04\n",
      "Epoch 19/50\n",
      "264/264 [==============================] - 14s 55ms/step - loss: 2.5499e-04 - val_loss: 3.2103e-04\n",
      "Epoch 20/50\n",
      "264/264 [==============================] - 15s 56ms/step - loss: 2.2118e-04 - val_loss: 5.2134e-04\n",
      "Epoch 21/50\n",
      "264/264 [==============================] - 14s 55ms/step - loss: 2.4128e-04 - val_loss: 4.1913e-04\n",
      "Epoch 22/50\n",
      "264/264 [==============================] - 14s 55ms/step - loss: 2.4385e-04 - val_loss: 2.7392e-04\n",
      "Epoch 23/50\n",
      "264/264 [==============================] - 14s 55ms/step - loss: 3.2410e-04 - val_loss: 3.0960e-04\n",
      "Epoch 24/50\n",
      "264/264 [==============================] - 15s 55ms/step - loss: 1.9281e-04 - val_loss: 3.3807e-04\n",
      "Epoch 25/50\n",
      "264/264 [==============================] - 15s 57ms/step - loss: 2.0963e-04 - val_loss: 3.9735e-04\n",
      "Epoch 26/50\n",
      "264/264 [==============================] - 16s 60ms/step - loss: 2.6074e-04 - val_loss: 3.8226e-04\n",
      "Epoch 27/50\n",
      "264/264 [==============================] - 17s 64ms/step - loss: 1.8433e-04 - val_loss: 2.3628e-04\n",
      "Epoch 28/50\n",
      "264/264 [==============================] - 16s 61ms/step - loss: 1.7143e-04 - val_loss: 2.1280e-04\n",
      "Epoch 29/50\n",
      "264/264 [==============================] - 16s 61ms/step - loss: 2.2620e-04 - val_loss: 2.6461e-04\n",
      "Epoch 30/50\n",
      "264/264 [==============================] - 17s 65ms/step - loss: 1.8680e-04 - val_loss: 3.7469e-04\n",
      "Epoch 31/50\n",
      "264/264 [==============================] - 17s 65ms/step - loss: 1.9570e-04 - val_loss: 2.8152e-04\n",
      "Epoch 32/50\n",
      "264/264 [==============================] - 18s 68ms/step - loss: 2.0968e-04 - val_loss: 3.4181e-04\n",
      "Epoch 33/50\n",
      "264/264 [==============================] - 16s 62ms/step - loss: 1.4944e-04 - val_loss: 3.4986e-04\n",
      "Epoch 34/50\n",
      "264/264 [==============================] - 16s 59ms/step - loss: 1.7826e-04 - val_loss: 4.3331e-04\n",
      "Epoch 35/50\n",
      "264/264 [==============================] - 16s 61ms/step - loss: 1.4791e-04 - val_loss: 4.2082e-04\n",
      "Epoch 36/50\n",
      "264/264 [==============================] - 19s 73ms/step - loss: 1.6611e-04 - val_loss: 2.4691e-04\n",
      "Epoch 37/50\n",
      "264/264 [==============================] - 18s 67ms/step - loss: 2.0383e-04 - val_loss: 2.7107e-04\n",
      "Epoch 38/50\n",
      "264/264 [==============================] - 16s 62ms/step - loss: 1.4909e-04 - val_loss: 2.8534e-04\n",
      "Epoch 39/50\n",
      "264/264 [==============================] - 16s 59ms/step - loss: 1.7408e-04 - val_loss: 2.7526e-04\n",
      "Epoch 40/50\n",
      "264/264 [==============================] - 15s 58ms/step - loss: 1.5662e-04 - val_loss: 2.9061e-04\n",
      "Epoch 41/50\n",
      "264/264 [==============================] - 15s 57ms/step - loss: 1.7817e-04 - val_loss: 3.3897e-04\n",
      "Epoch 42/50\n",
      "264/264 [==============================] - 15s 57ms/step - loss: 2.2113e-04 - val_loss: 2.2446e-04\n",
      "Epoch 43/50\n",
      "264/264 [==============================] - 15s 57ms/step - loss: 1.9005e-04 - val_loss: 2.7172e-04\n",
      "Epoch 44/50\n",
      "264/264 [==============================] - 15s 58ms/step - loss: 1.7566e-04 - val_loss: 3.3759e-04\n",
      "Epoch 45/50\n",
      "264/264 [==============================] - 15s 58ms/step - loss: 1.4078e-04 - val_loss: 3.1332e-04\n",
      "Epoch 46/50\n",
      "264/264 [==============================] - 16s 61ms/step - loss: 1.4476e-04 - val_loss: 3.4895e-04\n",
      "Epoch 47/50\n",
      "264/264 [==============================] - 18s 69ms/step - loss: 1.7261e-04 - val_loss: 4.7335e-04\n",
      "Epoch 48/50\n",
      "264/264 [==============================] - 21s 80ms/step - loss: 1.4192e-04 - val_loss: 3.1969e-04\n",
      "Epoch 49/50\n",
      "264/264 [==============================] - 17s 63ms/step - loss: 1.4982e-04 - val_loss: 2.2576e-04\n",
      "Epoch 50/50\n",
      "264/264 [==============================] - 16s 60ms/step - loss: 1.3826e-04 - val_loss: 3.5833e-04\n",
      "save model，path: f:\\OtherCode\\Python/data/hotel_call_predict.h5\n",
      "train success,cost: 804.1455643177032\n"
     ]
    }
   ],
   "source": [
    "print(\"strat training...\")\n",
    "time_start = time.time()\n",
    "model = getModel()\n",
    "print(\"train_x.shape\",train_x.shape,\"train_y.shape\",train_y.shape)\n",
    "print(\"test_x.shape\",test_x.shape,\"test_y.shape\",test_y.shape)\n",
    "print(\"windows_size:\",windows_size)\n",
    "print(\"n_features\",n_features)\n",
    "# fit model\n",
    "history = model.fit(train_x, train_y, epochs=50, batch_size=50,validation_data=(test_x, test_y))\n",
    "time_end = time.time()\n",
    "print(\"save model，path:\" ,model_path)\n",
    "model.save(model_path)\n",
    "print(\"train success,cost:\", time_end-time_start)"
   ]
  },
  {
   "cell_type": "code",
   "execution_count": 17,
   "metadata": {},
   "outputs": [
    {
     "output_type": "display_data",
     "data": {
      "text/plain": "<Figure size 576x360 with 1 Axes>",
      "image/svg+xml": "<?xml version=\"1.0\" encoding=\"utf-8\" standalone=\"no\"?>\r\n<!DOCTYPE svg PUBLIC \"-//W3C//DTD SVG 1.1//EN\"\r\n  \"http://www.w3.org/Graphics/SVG/1.1/DTD/svg11.dtd\">\r\n<!-- Created with matplotlib (https://matplotlib.org/) -->\r\n<svg height=\"306.0106pt\" version=\"1.1\" viewBox=\"0 0 509.153125 306.0106\" width=\"509.153125pt\" xmlns=\"http://www.w3.org/2000/svg\" xmlns:xlink=\"http://www.w3.org/1999/xlink\">\r\n <defs>\r\n  <style type=\"text/css\">\r\n*{stroke-linecap:butt;stroke-linejoin:round;}\r\n  </style>\r\n </defs>\r\n <g id=\"figure_1\">\r\n  <g id=\"patch_1\">\r\n   <path d=\"M 0 306.0106 \r\nL 509.153125 306.0106 \r\nL 509.153125 0 \r\nL 0 0 \r\nz\r\n\" style=\"fill:none;\"/>\r\n  </g>\r\n  <g id=\"axes_1\">\r\n   <g id=\"patch_2\">\r\n    <path d=\"M 55.553125 282.132475 \r\nL 501.953125 282.132475 \r\nL 501.953125 10.332475 \r\nL 55.553125 10.332475 \r\nz\r\n\" style=\"fill:#ffffff;\"/>\r\n   </g>\r\n   <g id=\"matplotlib.axis_1\">\r\n    <g id=\"xtick_1\">\r\n     <g id=\"line2d_1\">\r\n      <path clip-path=\"url(#p9f1f5bdd0b)\" d=\"M 75.844034 282.132475 \r\nL 75.844034 10.332475 \r\n\" style=\"fill:none;stroke:#b0b0b0;stroke-linecap:square;stroke-width:0.8;\"/>\r\n     </g>\r\n     <g id=\"line2d_2\">\r\n      <defs>\r\n       <path d=\"M 0 0 \r\nL 0 3.5 \r\n\" id=\"m227c2a0153\" style=\"stroke:#000000;stroke-width:0.8;\"/>\r\n      </defs>\r\n      <g>\r\n       <use style=\"stroke:#000000;stroke-width:0.8;\" x=\"75.844034\" xlink:href=\"#m227c2a0153\" y=\"282.132475\"/>\r\n      </g>\r\n     </g>\r\n     <g id=\"text_1\">\r\n      <!-- 0 -->\r\n      <defs>\r\n       <path d=\"M 31.78125 66.40625 \r\nQ 24.171875 66.40625 20.328125 58.90625 \r\nQ 16.5 51.421875 16.5 36.375 \r\nQ 16.5 21.390625 20.328125 13.890625 \r\nQ 24.171875 6.390625 31.78125 6.390625 \r\nQ 39.453125 6.390625 43.28125 13.890625 \r\nQ 47.125 21.390625 47.125 36.375 \r\nQ 47.125 51.421875 43.28125 58.90625 \r\nQ 39.453125 66.40625 31.78125 66.40625 \r\nz\r\nM 31.78125 74.21875 \r\nQ 44.046875 74.21875 50.515625 64.515625 \r\nQ 56.984375 54.828125 56.984375 36.375 \r\nQ 56.984375 17.96875 50.515625 8.265625 \r\nQ 44.046875 -1.421875 31.78125 -1.421875 \r\nQ 19.53125 -1.421875 13.0625 8.265625 \r\nQ 6.59375 17.96875 6.59375 36.375 \r\nQ 6.59375 54.828125 13.0625 64.515625 \r\nQ 19.53125 74.21875 31.78125 74.21875 \r\nz\r\n\" id=\"DejaVuSans-48\"/>\r\n      </defs>\r\n      <g transform=\"translate(72.662784 296.730912)scale(0.1 -0.1)\">\r\n       <use xlink:href=\"#DejaVuSans-48\"/>\r\n      </g>\r\n     </g>\r\n    </g>\r\n    <g id=\"xtick_2\">\r\n     <g id=\"line2d_3\">\r\n      <path clip-path=\"url(#p9f1f5bdd0b)\" d=\"M 158.664071 282.132475 \r\nL 158.664071 10.332475 \r\n\" style=\"fill:none;stroke:#b0b0b0;stroke-linecap:square;stroke-width:0.8;\"/>\r\n     </g>\r\n     <g id=\"line2d_4\">\r\n      <g>\r\n       <use style=\"stroke:#000000;stroke-width:0.8;\" x=\"158.664071\" xlink:href=\"#m227c2a0153\" y=\"282.132475\"/>\r\n      </g>\r\n     </g>\r\n     <g id=\"text_2\">\r\n      <!-- 10 -->\r\n      <defs>\r\n       <path d=\"M 12.40625 8.296875 \r\nL 28.515625 8.296875 \r\nL 28.515625 63.921875 \r\nL 10.984375 60.40625 \r\nL 10.984375 69.390625 \r\nL 28.421875 72.90625 \r\nL 38.28125 72.90625 \r\nL 38.28125 8.296875 \r\nL 54.390625 8.296875 \r\nL 54.390625 0 \r\nL 12.40625 0 \r\nz\r\n\" id=\"DejaVuSans-49\"/>\r\n      </defs>\r\n      <g transform=\"translate(152.301571 296.730912)scale(0.1 -0.1)\">\r\n       <use xlink:href=\"#DejaVuSans-49\"/>\r\n       <use x=\"63.623047\" xlink:href=\"#DejaVuSans-48\"/>\r\n      </g>\r\n     </g>\r\n    </g>\r\n    <g id=\"xtick_3\">\r\n     <g id=\"line2d_5\">\r\n      <path clip-path=\"url(#p9f1f5bdd0b)\" d=\"M 241.484108 282.132475 \r\nL 241.484108 10.332475 \r\n\" style=\"fill:none;stroke:#b0b0b0;stroke-linecap:square;stroke-width:0.8;\"/>\r\n     </g>\r\n     <g id=\"line2d_6\">\r\n      <g>\r\n       <use style=\"stroke:#000000;stroke-width:0.8;\" x=\"241.484108\" xlink:href=\"#m227c2a0153\" y=\"282.132475\"/>\r\n      </g>\r\n     </g>\r\n     <g id=\"text_3\">\r\n      <!-- 20 -->\r\n      <defs>\r\n       <path d=\"M 19.1875 8.296875 \r\nL 53.609375 8.296875 \r\nL 53.609375 0 \r\nL 7.328125 0 \r\nL 7.328125 8.296875 \r\nQ 12.9375 14.109375 22.625 23.890625 \r\nQ 32.328125 33.6875 34.8125 36.53125 \r\nQ 39.546875 41.84375 41.421875 45.53125 \r\nQ 43.3125 49.21875 43.3125 52.78125 \r\nQ 43.3125 58.59375 39.234375 62.25 \r\nQ 35.15625 65.921875 28.609375 65.921875 \r\nQ 23.96875 65.921875 18.8125 64.3125 \r\nQ 13.671875 62.703125 7.8125 59.421875 \r\nL 7.8125 69.390625 \r\nQ 13.765625 71.78125 18.9375 73 \r\nQ 24.125 74.21875 28.421875 74.21875 \r\nQ 39.75 74.21875 46.484375 68.546875 \r\nQ 53.21875 62.890625 53.21875 53.421875 \r\nQ 53.21875 48.921875 51.53125 44.890625 \r\nQ 49.859375 40.875 45.40625 35.40625 \r\nQ 44.1875 33.984375 37.640625 27.21875 \r\nQ 31.109375 20.453125 19.1875 8.296875 \r\nz\r\n\" id=\"DejaVuSans-50\"/>\r\n      </defs>\r\n      <g transform=\"translate(235.121608 296.730912)scale(0.1 -0.1)\">\r\n       <use xlink:href=\"#DejaVuSans-50\"/>\r\n       <use x=\"63.623047\" xlink:href=\"#DejaVuSans-48\"/>\r\n      </g>\r\n     </g>\r\n    </g>\r\n    <g id=\"xtick_4\">\r\n     <g id=\"line2d_7\">\r\n      <path clip-path=\"url(#p9f1f5bdd0b)\" d=\"M 324.304145 282.132475 \r\nL 324.304145 10.332475 \r\n\" style=\"fill:none;stroke:#b0b0b0;stroke-linecap:square;stroke-width:0.8;\"/>\r\n     </g>\r\n     <g id=\"line2d_8\">\r\n      <g>\r\n       <use style=\"stroke:#000000;stroke-width:0.8;\" x=\"324.304145\" xlink:href=\"#m227c2a0153\" y=\"282.132475\"/>\r\n      </g>\r\n     </g>\r\n     <g id=\"text_4\">\r\n      <!-- 30 -->\r\n      <defs>\r\n       <path d=\"M 40.578125 39.3125 \r\nQ 47.65625 37.796875 51.625 33 \r\nQ 55.609375 28.21875 55.609375 21.1875 \r\nQ 55.609375 10.40625 48.1875 4.484375 \r\nQ 40.765625 -1.421875 27.09375 -1.421875 \r\nQ 22.515625 -1.421875 17.65625 -0.515625 \r\nQ 12.796875 0.390625 7.625 2.203125 \r\nL 7.625 11.71875 \r\nQ 11.71875 9.328125 16.59375 8.109375 \r\nQ 21.484375 6.890625 26.8125 6.890625 \r\nQ 36.078125 6.890625 40.9375 10.546875 \r\nQ 45.796875 14.203125 45.796875 21.1875 \r\nQ 45.796875 27.640625 41.28125 31.265625 \r\nQ 36.765625 34.90625 28.71875 34.90625 \r\nL 20.21875 34.90625 \r\nL 20.21875 43.015625 \r\nL 29.109375 43.015625 \r\nQ 36.375 43.015625 40.234375 45.921875 \r\nQ 44.09375 48.828125 44.09375 54.296875 \r\nQ 44.09375 59.90625 40.109375 62.90625 \r\nQ 36.140625 65.921875 28.71875 65.921875 \r\nQ 24.65625 65.921875 20.015625 65.03125 \r\nQ 15.375 64.15625 9.8125 62.3125 \r\nL 9.8125 71.09375 \r\nQ 15.4375 72.65625 20.34375 73.4375 \r\nQ 25.25 74.21875 29.59375 74.21875 \r\nQ 40.828125 74.21875 47.359375 69.109375 \r\nQ 53.90625 64.015625 53.90625 55.328125 \r\nQ 53.90625 49.265625 50.4375 45.09375 \r\nQ 46.96875 40.921875 40.578125 39.3125 \r\nz\r\n\" id=\"DejaVuSans-51\"/>\r\n      </defs>\r\n      <g transform=\"translate(317.941645 296.730912)scale(0.1 -0.1)\">\r\n       <use xlink:href=\"#DejaVuSans-51\"/>\r\n       <use x=\"63.623047\" xlink:href=\"#DejaVuSans-48\"/>\r\n      </g>\r\n     </g>\r\n    </g>\r\n    <g id=\"xtick_5\">\r\n     <g id=\"line2d_9\">\r\n      <path clip-path=\"url(#p9f1f5bdd0b)\" d=\"M 407.124183 282.132475 \r\nL 407.124183 10.332475 \r\n\" style=\"fill:none;stroke:#b0b0b0;stroke-linecap:square;stroke-width:0.8;\"/>\r\n     </g>\r\n     <g id=\"line2d_10\">\r\n      <g>\r\n       <use style=\"stroke:#000000;stroke-width:0.8;\" x=\"407.124183\" xlink:href=\"#m227c2a0153\" y=\"282.132475\"/>\r\n      </g>\r\n     </g>\r\n     <g id=\"text_5\">\r\n      <!-- 40 -->\r\n      <defs>\r\n       <path d=\"M 37.796875 64.3125 \r\nL 12.890625 25.390625 \r\nL 37.796875 25.390625 \r\nz\r\nM 35.203125 72.90625 \r\nL 47.609375 72.90625 \r\nL 47.609375 25.390625 \r\nL 58.015625 25.390625 \r\nL 58.015625 17.1875 \r\nL 47.609375 17.1875 \r\nL 47.609375 0 \r\nL 37.796875 0 \r\nL 37.796875 17.1875 \r\nL 4.890625 17.1875 \r\nL 4.890625 26.703125 \r\nz\r\n\" id=\"DejaVuSans-52\"/>\r\n      </defs>\r\n      <g transform=\"translate(400.761683 296.730912)scale(0.1 -0.1)\">\r\n       <use xlink:href=\"#DejaVuSans-52\"/>\r\n       <use x=\"63.623047\" xlink:href=\"#DejaVuSans-48\"/>\r\n      </g>\r\n     </g>\r\n    </g>\r\n    <g id=\"xtick_6\">\r\n     <g id=\"line2d_11\">\r\n      <path clip-path=\"url(#p9f1f5bdd0b)\" d=\"M 489.94422 282.132475 \r\nL 489.94422 10.332475 \r\n\" style=\"fill:none;stroke:#b0b0b0;stroke-linecap:square;stroke-width:0.8;\"/>\r\n     </g>\r\n     <g id=\"line2d_12\">\r\n      <g>\r\n       <use style=\"stroke:#000000;stroke-width:0.8;\" x=\"489.94422\" xlink:href=\"#m227c2a0153\" y=\"282.132475\"/>\r\n      </g>\r\n     </g>\r\n     <g id=\"text_6\">\r\n      <!-- 50 -->\r\n      <defs>\r\n       <path d=\"M 10.796875 72.90625 \r\nL 49.515625 72.90625 \r\nL 49.515625 64.59375 \r\nL 19.828125 64.59375 \r\nL 19.828125 46.734375 \r\nQ 21.96875 47.46875 24.109375 47.828125 \r\nQ 26.265625 48.1875 28.421875 48.1875 \r\nQ 40.625 48.1875 47.75 41.5 \r\nQ 54.890625 34.8125 54.890625 23.390625 \r\nQ 54.890625 11.625 47.5625 5.09375 \r\nQ 40.234375 -1.421875 26.90625 -1.421875 \r\nQ 22.3125 -1.421875 17.546875 -0.640625 \r\nQ 12.796875 0.140625 7.71875 1.703125 \r\nL 7.71875 11.625 \r\nQ 12.109375 9.234375 16.796875 8.0625 \r\nQ 21.484375 6.890625 26.703125 6.890625 \r\nQ 35.15625 6.890625 40.078125 11.328125 \r\nQ 45.015625 15.765625 45.015625 23.390625 \r\nQ 45.015625 31 40.078125 35.4375 \r\nQ 35.15625 39.890625 26.703125 39.890625 \r\nQ 22.75 39.890625 18.8125 39.015625 \r\nQ 14.890625 38.140625 10.796875 36.28125 \r\nz\r\n\" id=\"DejaVuSans-53\"/>\r\n      </defs>\r\n      <g transform=\"translate(483.58172 296.730912)scale(0.1 -0.1)\">\r\n       <use xlink:href=\"#DejaVuSans-53\"/>\r\n       <use x=\"63.623047\" xlink:href=\"#DejaVuSans-48\"/>\r\n      </g>\r\n     </g>\r\n    </g>\r\n   </g>\r\n   <g id=\"matplotlib.axis_2\">\r\n    <g id=\"ytick_1\">\r\n     <g id=\"line2d_13\">\r\n      <path clip-path=\"url(#p9f1f5bdd0b)\" d=\"M 55.553125 254.245726 \r\nL 501.953125 254.245726 \r\n\" style=\"fill:none;stroke:#b0b0b0;stroke-linecap:square;stroke-width:0.8;\"/>\r\n     </g>\r\n     <g id=\"line2d_14\">\r\n      <defs>\r\n       <path d=\"M 0 0 \r\nL -3.5 0 \r\n\" id=\"m90bb4ab970\" style=\"stroke:#000000;stroke-width:0.8;\"/>\r\n      </defs>\r\n      <g>\r\n       <use style=\"stroke:#000000;stroke-width:0.8;\" x=\"55.553125\" xlink:href=\"#m90bb4ab970\" y=\"254.245726\"/>\r\n      </g>\r\n     </g>\r\n     <g id=\"text_7\">\r\n      <!-- 0.00025 -->\r\n      <defs>\r\n       <path d=\"M 10.6875 12.40625 \r\nL 21 12.40625 \r\nL 21 0 \r\nL 10.6875 0 \r\nz\r\n\" id=\"DejaVuSans-46\"/>\r\n      </defs>\r\n      <g transform=\"translate(7.2 258.044945)scale(0.1 -0.1)\">\r\n       <use xlink:href=\"#DejaVuSans-48\"/>\r\n       <use x=\"63.623047\" xlink:href=\"#DejaVuSans-46\"/>\r\n       <use x=\"95.410156\" xlink:href=\"#DejaVuSans-48\"/>\r\n       <use x=\"159.033203\" xlink:href=\"#DejaVuSans-48\"/>\r\n       <use x=\"222.65625\" xlink:href=\"#DejaVuSans-48\"/>\r\n       <use x=\"286.279297\" xlink:href=\"#DejaVuSans-50\"/>\r\n       <use x=\"349.902344\" xlink:href=\"#DejaVuSans-53\"/>\r\n      </g>\r\n     </g>\r\n    </g>\r\n    <g id=\"ytick_2\">\r\n     <g id=\"line2d_15\">\r\n      <path clip-path=\"url(#p9f1f5bdd0b)\" d=\"M 55.553125 219.496225 \r\nL 501.953125 219.496225 \r\n\" style=\"fill:none;stroke:#b0b0b0;stroke-linecap:square;stroke-width:0.8;\"/>\r\n     </g>\r\n     <g id=\"line2d_16\">\r\n      <g>\r\n       <use style=\"stroke:#000000;stroke-width:0.8;\" x=\"55.553125\" xlink:href=\"#m90bb4ab970\" y=\"219.496225\"/>\r\n      </g>\r\n     </g>\r\n     <g id=\"text_8\">\r\n      <!-- 0.00050 -->\r\n      <g transform=\"translate(7.2 223.295444)scale(0.1 -0.1)\">\r\n       <use xlink:href=\"#DejaVuSans-48\"/>\r\n       <use x=\"63.623047\" xlink:href=\"#DejaVuSans-46\"/>\r\n       <use x=\"95.410156\" xlink:href=\"#DejaVuSans-48\"/>\r\n       <use x=\"159.033203\" xlink:href=\"#DejaVuSans-48\"/>\r\n       <use x=\"222.65625\" xlink:href=\"#DejaVuSans-48\"/>\r\n       <use x=\"286.279297\" xlink:href=\"#DejaVuSans-53\"/>\r\n       <use x=\"349.902344\" xlink:href=\"#DejaVuSans-48\"/>\r\n      </g>\r\n     </g>\r\n    </g>\r\n    <g id=\"ytick_3\">\r\n     <g id=\"line2d_17\">\r\n      <path clip-path=\"url(#p9f1f5bdd0b)\" d=\"M 55.553125 184.746724 \r\nL 501.953125 184.746724 \r\n\" style=\"fill:none;stroke:#b0b0b0;stroke-linecap:square;stroke-width:0.8;\"/>\r\n     </g>\r\n     <g id=\"line2d_18\">\r\n      <g>\r\n       <use style=\"stroke:#000000;stroke-width:0.8;\" x=\"55.553125\" xlink:href=\"#m90bb4ab970\" y=\"184.746724\"/>\r\n      </g>\r\n     </g>\r\n     <g id=\"text_9\">\r\n      <!-- 0.00075 -->\r\n      <defs>\r\n       <path d=\"M 8.203125 72.90625 \r\nL 55.078125 72.90625 \r\nL 55.078125 68.703125 \r\nL 28.609375 0 \r\nL 18.3125 0 \r\nL 43.21875 64.59375 \r\nL 8.203125 64.59375 \r\nz\r\n\" id=\"DejaVuSans-55\"/>\r\n      </defs>\r\n      <g transform=\"translate(7.2 188.545943)scale(0.1 -0.1)\">\r\n       <use xlink:href=\"#DejaVuSans-48\"/>\r\n       <use x=\"63.623047\" xlink:href=\"#DejaVuSans-46\"/>\r\n       <use x=\"95.410156\" xlink:href=\"#DejaVuSans-48\"/>\r\n       <use x=\"159.033203\" xlink:href=\"#DejaVuSans-48\"/>\r\n       <use x=\"222.65625\" xlink:href=\"#DejaVuSans-48\"/>\r\n       <use x=\"286.279297\" xlink:href=\"#DejaVuSans-55\"/>\r\n       <use x=\"349.902344\" xlink:href=\"#DejaVuSans-53\"/>\r\n      </g>\r\n     </g>\r\n    </g>\r\n    <g id=\"ytick_4\">\r\n     <g id=\"line2d_19\">\r\n      <path clip-path=\"url(#p9f1f5bdd0b)\" d=\"M 55.553125 149.997223 \r\nL 501.953125 149.997223 \r\n\" style=\"fill:none;stroke:#b0b0b0;stroke-linecap:square;stroke-width:0.8;\"/>\r\n     </g>\r\n     <g id=\"line2d_20\">\r\n      <g>\r\n       <use style=\"stroke:#000000;stroke-width:0.8;\" x=\"55.553125\" xlink:href=\"#m90bb4ab970\" y=\"149.997223\"/>\r\n      </g>\r\n     </g>\r\n     <g id=\"text_10\">\r\n      <!-- 0.00100 -->\r\n      <g transform=\"translate(7.2 153.796442)scale(0.1 -0.1)\">\r\n       <use xlink:href=\"#DejaVuSans-48\"/>\r\n       <use x=\"63.623047\" xlink:href=\"#DejaVuSans-46\"/>\r\n       <use x=\"95.410156\" xlink:href=\"#DejaVuSans-48\"/>\r\n       <use x=\"159.033203\" xlink:href=\"#DejaVuSans-48\"/>\r\n       <use x=\"222.65625\" xlink:href=\"#DejaVuSans-49\"/>\r\n       <use x=\"286.279297\" xlink:href=\"#DejaVuSans-48\"/>\r\n       <use x=\"349.902344\" xlink:href=\"#DejaVuSans-48\"/>\r\n      </g>\r\n     </g>\r\n    </g>\r\n    <g id=\"ytick_5\">\r\n     <g id=\"line2d_21\">\r\n      <path clip-path=\"url(#p9f1f5bdd0b)\" d=\"M 55.553125 115.247722 \r\nL 501.953125 115.247722 \r\n\" style=\"fill:none;stroke:#b0b0b0;stroke-linecap:square;stroke-width:0.8;\"/>\r\n     </g>\r\n     <g id=\"line2d_22\">\r\n      <g>\r\n       <use style=\"stroke:#000000;stroke-width:0.8;\" x=\"55.553125\" xlink:href=\"#m90bb4ab970\" y=\"115.247722\"/>\r\n      </g>\r\n     </g>\r\n     <g id=\"text_11\">\r\n      <!-- 0.00125 -->\r\n      <g transform=\"translate(7.2 119.046941)scale(0.1 -0.1)\">\r\n       <use xlink:href=\"#DejaVuSans-48\"/>\r\n       <use x=\"63.623047\" xlink:href=\"#DejaVuSans-46\"/>\r\n       <use x=\"95.410156\" xlink:href=\"#DejaVuSans-48\"/>\r\n       <use x=\"159.033203\" xlink:href=\"#DejaVuSans-48\"/>\r\n       <use x=\"222.65625\" xlink:href=\"#DejaVuSans-49\"/>\r\n       <use x=\"286.279297\" xlink:href=\"#DejaVuSans-50\"/>\r\n       <use x=\"349.902344\" xlink:href=\"#DejaVuSans-53\"/>\r\n      </g>\r\n     </g>\r\n    </g>\r\n    <g id=\"ytick_6\">\r\n     <g id=\"line2d_23\">\r\n      <path clip-path=\"url(#p9f1f5bdd0b)\" d=\"M 55.553125 80.498221 \r\nL 501.953125 80.498221 \r\n\" style=\"fill:none;stroke:#b0b0b0;stroke-linecap:square;stroke-width:0.8;\"/>\r\n     </g>\r\n     <g id=\"line2d_24\">\r\n      <g>\r\n       <use style=\"stroke:#000000;stroke-width:0.8;\" x=\"55.553125\" xlink:href=\"#m90bb4ab970\" y=\"80.498221\"/>\r\n      </g>\r\n     </g>\r\n     <g id=\"text_12\">\r\n      <!-- 0.00150 -->\r\n      <g transform=\"translate(7.2 84.29744)scale(0.1 -0.1)\">\r\n       <use xlink:href=\"#DejaVuSans-48\"/>\r\n       <use x=\"63.623047\" xlink:href=\"#DejaVuSans-46\"/>\r\n       <use x=\"95.410156\" xlink:href=\"#DejaVuSans-48\"/>\r\n       <use x=\"159.033203\" xlink:href=\"#DejaVuSans-48\"/>\r\n       <use x=\"222.65625\" xlink:href=\"#DejaVuSans-49\"/>\r\n       <use x=\"286.279297\" xlink:href=\"#DejaVuSans-53\"/>\r\n       <use x=\"349.902344\" xlink:href=\"#DejaVuSans-48\"/>\r\n      </g>\r\n     </g>\r\n    </g>\r\n    <g id=\"ytick_7\">\r\n     <g id=\"line2d_25\">\r\n      <path clip-path=\"url(#p9f1f5bdd0b)\" d=\"M 55.553125 45.74872 \r\nL 501.953125 45.74872 \r\n\" style=\"fill:none;stroke:#b0b0b0;stroke-linecap:square;stroke-width:0.8;\"/>\r\n     </g>\r\n     <g id=\"line2d_26\">\r\n      <g>\r\n       <use style=\"stroke:#000000;stroke-width:0.8;\" x=\"55.553125\" xlink:href=\"#m90bb4ab970\" y=\"45.74872\"/>\r\n      </g>\r\n     </g>\r\n     <g id=\"text_13\">\r\n      <!-- 0.00175 -->\r\n      <g transform=\"translate(7.2 49.547939)scale(0.1 -0.1)\">\r\n       <use xlink:href=\"#DejaVuSans-48\"/>\r\n       <use x=\"63.623047\" xlink:href=\"#DejaVuSans-46\"/>\r\n       <use x=\"95.410156\" xlink:href=\"#DejaVuSans-48\"/>\r\n       <use x=\"159.033203\" xlink:href=\"#DejaVuSans-48\"/>\r\n       <use x=\"222.65625\" xlink:href=\"#DejaVuSans-49\"/>\r\n       <use x=\"286.279297\" xlink:href=\"#DejaVuSans-55\"/>\r\n       <use x=\"349.902344\" xlink:href=\"#DejaVuSans-53\"/>\r\n      </g>\r\n     </g>\r\n    </g>\r\n    <g id=\"ytick_8\">\r\n     <g id=\"line2d_27\">\r\n      <path clip-path=\"url(#p9f1f5bdd0b)\" d=\"M 55.553125 10.999219 \r\nL 501.953125 10.999219 \r\n\" style=\"fill:none;stroke:#b0b0b0;stroke-linecap:square;stroke-width:0.8;\"/>\r\n     </g>\r\n     <g id=\"line2d_28\">\r\n      <g>\r\n       <use style=\"stroke:#000000;stroke-width:0.8;\" x=\"55.553125\" xlink:href=\"#m90bb4ab970\" y=\"10.999219\"/>\r\n      </g>\r\n     </g>\r\n     <g id=\"text_14\">\r\n      <!-- 0.00200 -->\r\n      <g transform=\"translate(7.2 14.798437)scale(0.1 -0.1)\">\r\n       <use xlink:href=\"#DejaVuSans-48\"/>\r\n       <use x=\"63.623047\" xlink:href=\"#DejaVuSans-46\"/>\r\n       <use x=\"95.410156\" xlink:href=\"#DejaVuSans-48\"/>\r\n       <use x=\"159.033203\" xlink:href=\"#DejaVuSans-48\"/>\r\n       <use x=\"222.65625\" xlink:href=\"#DejaVuSans-50\"/>\r\n       <use x=\"286.279297\" xlink:href=\"#DejaVuSans-48\"/>\r\n       <use x=\"349.902344\" xlink:href=\"#DejaVuSans-48\"/>\r\n      </g>\r\n     </g>\r\n    </g>\r\n   </g>\r\n   <g id=\"line2d_29\">\r\n    <path clip-path=\"url(#p9f1f5bdd0b)\" d=\"M 75.844034 89.947647 \r\nL 84.126038 109.101168 \r\nL 92.408042 22.68702 \r\nL 100.690045 28.736651 \r\nL 108.972049 148.191604 \r\nL 117.254053 167.798708 \r\nL 125.536056 186.689805 \r\nL 133.81806 187.671602 \r\nL 142.100064 199.280491 \r\nL 150.382067 201.712295 \r\nL 158.664071 208.558735 \r\nL 166.946075 219.080479 \r\nL 175.228079 215.616473 \r\nL 183.510082 224.197408 \r\nL 191.792086 238.429023 \r\nL 200.07409 232.909834 \r\nL 208.356093 247.355748 \r\nL 216.638097 246.989541 \r\nL 224.920101 253.551522 \r\nL 233.202105 258.251887 \r\nL 241.484108 255.457879 \r\nL 249.766112 255.100015 \r\nL 258.048116 243.945405 \r\nL 266.330119 262.195506 \r\nL 274.612123 259.856798 \r\nL 282.894127 252.753232 \r\nL 291.176131 263.373289 \r\nL 299.458134 265.166698 \r\nL 307.740138 257.554365 \r\nL 316.022142 263.030645 \r\nL 324.304145 261.793349 \r\nL 332.586149 259.849711 \r\nL 340.868153 268.223895 \r\nL 349.150157 264.217176 \r\nL 357.43216 268.436694 \r\nL 365.714164 265.906674 \r\nL 373.996168 260.663824 \r\nL 382.278171 268.272192 \r\nL 390.560175 264.798648 \r\nL 398.842179 267.225191 \r\nL 407.124183 264.230635 \r\nL 415.406186 258.258048 \r\nL 423.68819 262.579277 \r\nL 431.970194 264.578495 \r\nL 440.252197 269.426415 \r\nL 448.534201 268.874017 \r\nL 456.816205 265.003172 \r\nL 465.098208 269.268607 \r\nL 473.380212 268.170081 \r\nL 481.662216 269.777929 \r\n\" style=\"fill:none;stroke:#1f77b4;stroke-linecap:square;stroke-width:1.5;\"/>\r\n   </g>\r\n   <g id=\"line2d_30\">\r\n    <path clip-path=\"url(#p9f1f5bdd0b)\" d=\"M 75.844034 93.280502 \r\nL 84.126038 149.682179 \r\nL 92.408042 118.98303 \r\nL 100.690045 156.685596 \r\nL 108.972049 146.011083 \r\nL 117.254053 139.987423 \r\nL 125.536056 124.59801 \r\nL 133.81806 186.950384 \r\nL 142.100064 159.779878 \r\nL 150.382067 161.779288 \r\nL 158.664071 206.310721 \r\nL 166.946075 214.658593 \r\nL 175.228079 181.463222 \r\nL 183.510082 166.647726 \r\nL 191.792086 235.679661 \r\nL 200.07409 254.757671 \r\nL 208.356093 193.52754 \r\nL 216.638097 243.48782 \r\nL 224.920101 244.373373 \r\nL 233.202105 216.530388 \r\nL 241.484108 230.736873 \r\nL 249.766112 250.921341 \r\nL 258.048116 245.960834 \r\nL 266.330119 242.004838 \r\nL 274.612123 233.763816 \r\nL 282.894127 235.861412 \r\nL 291.176131 256.152378 \r\nL 299.458134 259.415861 \r\nL 307.740138 252.214583 \r\nL 316.022142 236.914609 \r\nL 324.304145 249.864718 \r\nL 332.586149 241.484296 \r\nL 340.868153 240.365976 \r\nL 349.150157 228.765683 \r\nL 357.43216 230.50214 \r\nL 365.714164 254.675105 \r\nL 373.996168 251.317501 \r\nL 382.278171 249.333147 \r\nL 390.560175 250.735161 \r\nL 398.842179 248.60074 \r\nL 407.124183 241.87855 \r\nL 415.406186 257.795233 \r\nL 423.68819 251.227095 \r\nL 431.970194 242.0713 \r\nL 440.252197 245.444155 \r\nL 448.534201 240.491359 \r\nL 456.816205 223.200163 \r\nL 465.098208 244.55931 \r\nL 473.380212 257.615637 \r\nL 481.662216 239.188736 \r\n\" style=\"fill:none;stroke:#ff7f0e;stroke-linecap:square;stroke-width:1.5;\"/>\r\n   </g>\r\n   <g id=\"patch_3\">\r\n    <path d=\"M 55.553125 282.132475 \r\nL 55.553125 10.332475 \r\n\" style=\"fill:none;stroke:#000000;stroke-linecap:square;stroke-linejoin:miter;stroke-width:0.8;\"/>\r\n   </g>\r\n   <g id=\"patch_4\">\r\n    <path d=\"M 501.953125 282.132475 \r\nL 501.953125 10.332475 \r\n\" style=\"fill:none;stroke:#000000;stroke-linecap:square;stroke-linejoin:miter;stroke-width:0.8;\"/>\r\n   </g>\r\n   <g id=\"patch_5\">\r\n    <path d=\"M 55.553125 282.132475 \r\nL 501.953125 282.132475 \r\n\" style=\"fill:none;stroke:#000000;stroke-linecap:square;stroke-linejoin:miter;stroke-width:0.8;\"/>\r\n   </g>\r\n   <g id=\"patch_6\">\r\n    <path d=\"M 55.553125 10.332475 \r\nL 501.953125 10.332475 \r\n\" style=\"fill:none;stroke:#000000;stroke-linecap:square;stroke-linejoin:miter;stroke-width:0.8;\"/>\r\n   </g>\r\n   <g id=\"legend_1\">\r\n    <g id=\"patch_7\">\r\n     <path d=\"M 423.8125 47.96685 \r\nL 494.953125 47.96685 \r\nQ 496.953125 47.96685 496.953125 45.96685 \r\nL 496.953125 17.332475 \r\nQ 496.953125 15.332475 494.953125 15.332475 \r\nL 423.8125 15.332475 \r\nQ 421.8125 15.332475 421.8125 17.332475 \r\nL 421.8125 45.96685 \r\nQ 421.8125 47.96685 423.8125 47.96685 \r\nz\r\n\" style=\"fill:#ffffff;opacity:0.8;stroke:#cccccc;stroke-linejoin:miter;\"/>\r\n    </g>\r\n    <g id=\"line2d_31\">\r\n     <path d=\"M 425.8125 23.430912 \r\nL 445.8125 23.430912 \r\n\" style=\"fill:none;stroke:#1f77b4;stroke-linecap:square;stroke-width:1.5;\"/>\r\n    </g>\r\n    <g id=\"line2d_32\"/>\r\n    <g id=\"text_15\">\r\n     <!-- loss -->\r\n     <defs>\r\n      <path d=\"M 9.421875 75.984375 \r\nL 18.40625 75.984375 \r\nL 18.40625 0 \r\nL 9.421875 0 \r\nz\r\n\" id=\"DejaVuSans-108\"/>\r\n      <path d=\"M 30.609375 48.390625 \r\nQ 23.390625 48.390625 19.1875 42.75 \r\nQ 14.984375 37.109375 14.984375 27.296875 \r\nQ 14.984375 17.484375 19.15625 11.84375 \r\nQ 23.34375 6.203125 30.609375 6.203125 \r\nQ 37.796875 6.203125 41.984375 11.859375 \r\nQ 46.1875 17.53125 46.1875 27.296875 \r\nQ 46.1875 37.015625 41.984375 42.703125 \r\nQ 37.796875 48.390625 30.609375 48.390625 \r\nz\r\nM 30.609375 56 \r\nQ 42.328125 56 49.015625 48.375 \r\nQ 55.71875 40.765625 55.71875 27.296875 \r\nQ 55.71875 13.875 49.015625 6.21875 \r\nQ 42.328125 -1.421875 30.609375 -1.421875 \r\nQ 18.84375 -1.421875 12.171875 6.21875 \r\nQ 5.515625 13.875 5.515625 27.296875 \r\nQ 5.515625 40.765625 12.171875 48.375 \r\nQ 18.84375 56 30.609375 56 \r\nz\r\n\" id=\"DejaVuSans-111\"/>\r\n      <path d=\"M 44.28125 53.078125 \r\nL 44.28125 44.578125 \r\nQ 40.484375 46.53125 36.375 47.5 \r\nQ 32.28125 48.484375 27.875 48.484375 \r\nQ 21.1875 48.484375 17.84375 46.4375 \r\nQ 14.5 44.390625 14.5 40.28125 \r\nQ 14.5 37.15625 16.890625 35.375 \r\nQ 19.28125 33.59375 26.515625 31.984375 \r\nL 29.59375 31.296875 \r\nQ 39.15625 29.25 43.1875 25.515625 \r\nQ 47.21875 21.78125 47.21875 15.09375 \r\nQ 47.21875 7.46875 41.1875 3.015625 \r\nQ 35.15625 -1.421875 24.609375 -1.421875 \r\nQ 20.21875 -1.421875 15.453125 -0.5625 \r\nQ 10.6875 0.296875 5.421875 2 \r\nL 5.421875 11.28125 \r\nQ 10.40625 8.6875 15.234375 7.390625 \r\nQ 20.0625 6.109375 24.8125 6.109375 \r\nQ 31.15625 6.109375 34.5625 8.28125 \r\nQ 37.984375 10.453125 37.984375 14.40625 \r\nQ 37.984375 18.0625 35.515625 20.015625 \r\nQ 33.0625 21.96875 24.703125 23.78125 \r\nL 21.578125 24.515625 \r\nQ 13.234375 26.265625 9.515625 29.90625 \r\nQ 5.8125 33.546875 5.8125 39.890625 \r\nQ 5.8125 47.609375 11.28125 51.796875 \r\nQ 16.75 56 26.8125 56 \r\nQ 31.78125 56 36.171875 55.265625 \r\nQ 40.578125 54.546875 44.28125 53.078125 \r\nz\r\n\" id=\"DejaVuSans-115\"/>\r\n     </defs>\r\n     <g transform=\"translate(453.8125 26.930912)scale(0.1 -0.1)\">\r\n      <use xlink:href=\"#DejaVuSans-108\"/>\r\n      <use x=\"27.783203\" xlink:href=\"#DejaVuSans-111\"/>\r\n      <use x=\"88.964844\" xlink:href=\"#DejaVuSans-115\"/>\r\n      <use x=\"141.064453\" xlink:href=\"#DejaVuSans-115\"/>\r\n     </g>\r\n    </g>\r\n    <g id=\"line2d_33\">\r\n     <path d=\"M 425.8125 38.109037 \r\nL 445.8125 38.109037 \r\n\" style=\"fill:none;stroke:#ff7f0e;stroke-linecap:square;stroke-width:1.5;\"/>\r\n    </g>\r\n    <g id=\"line2d_34\"/>\r\n    <g id=\"text_16\">\r\n     <!-- val_loss -->\r\n     <defs>\r\n      <path d=\"M 2.984375 54.6875 \r\nL 12.5 54.6875 \r\nL 29.59375 8.796875 \r\nL 46.6875 54.6875 \r\nL 56.203125 54.6875 \r\nL 35.6875 0 \r\nL 23.484375 0 \r\nz\r\n\" id=\"DejaVuSans-118\"/>\r\n      <path d=\"M 34.28125 27.484375 \r\nQ 23.390625 27.484375 19.1875 25 \r\nQ 14.984375 22.515625 14.984375 16.5 \r\nQ 14.984375 11.71875 18.140625 8.90625 \r\nQ 21.296875 6.109375 26.703125 6.109375 \r\nQ 34.1875 6.109375 38.703125 11.40625 \r\nQ 43.21875 16.703125 43.21875 25.484375 \r\nL 43.21875 27.484375 \r\nz\r\nM 52.203125 31.203125 \r\nL 52.203125 0 \r\nL 43.21875 0 \r\nL 43.21875 8.296875 \r\nQ 40.140625 3.328125 35.546875 0.953125 \r\nQ 30.953125 -1.421875 24.3125 -1.421875 \r\nQ 15.921875 -1.421875 10.953125 3.296875 \r\nQ 6 8.015625 6 15.921875 \r\nQ 6 25.140625 12.171875 29.828125 \r\nQ 18.359375 34.515625 30.609375 34.515625 \r\nL 43.21875 34.515625 \r\nL 43.21875 35.40625 \r\nQ 43.21875 41.609375 39.140625 45 \r\nQ 35.0625 48.390625 27.6875 48.390625 \r\nQ 23 48.390625 18.546875 47.265625 \r\nQ 14.109375 46.140625 10.015625 43.890625 \r\nL 10.015625 52.203125 \r\nQ 14.9375 54.109375 19.578125 55.046875 \r\nQ 24.21875 56 28.609375 56 \r\nQ 40.484375 56 46.34375 49.84375 \r\nQ 52.203125 43.703125 52.203125 31.203125 \r\nz\r\n\" id=\"DejaVuSans-97\"/>\r\n      <path d=\"M 50.984375 -16.609375 \r\nL 50.984375 -23.578125 \r\nL -0.984375 -23.578125 \r\nL -0.984375 -16.609375 \r\nz\r\n\" id=\"DejaVuSans-95\"/>\r\n     </defs>\r\n     <g transform=\"translate(453.8125 41.609037)scale(0.1 -0.1)\">\r\n      <use xlink:href=\"#DejaVuSans-118\"/>\r\n      <use x=\"59.179688\" xlink:href=\"#DejaVuSans-97\"/>\r\n      <use x=\"120.458984\" xlink:href=\"#DejaVuSans-108\"/>\r\n      <use x=\"148.242188\" xlink:href=\"#DejaVuSans-95\"/>\r\n      <use x=\"198.242188\" xlink:href=\"#DejaVuSans-108\"/>\r\n      <use x=\"226.025391\" xlink:href=\"#DejaVuSans-111\"/>\r\n      <use x=\"287.207031\" xlink:href=\"#DejaVuSans-115\"/>\r\n      <use x=\"339.306641\" xlink:href=\"#DejaVuSans-115\"/>\r\n     </g>\r\n    </g>\r\n   </g>\r\n  </g>\r\n </g>\r\n <defs>\r\n  <clipPath id=\"p9f1f5bdd0b\">\r\n   <rect height=\"271.8\" width=\"446.4\" x=\"55.553125\" y=\"10.332475\"/>\r\n  </clipPath>\r\n </defs>\r\n</svg>\r\n",
      "image/png": "[encoded data removed]"
     },
     "metadata": {
      "needs_background": "light"
     }
    }
   ],
   "source": [
    "def plot_learning_curves(history):\n",
    "    pd.DataFrame(history.history).plot(figsize=(8,5))\n",
    "    plt.grid(True) #打印网格\n",
    "    #plt.gca().set_ylim(0,1)\n",
    "    plt.show()\n",
    "plot_learning_curves(history)"
   ]
  },
  {
   "cell_type": "code",
   "execution_count": null,
   "metadata": {},
   "outputs": [],
   "source": [
    "#print(\"evaluate model...\")\n",
    "#result = model.evaluate(test_x, test_y)\n",
    "#print('result', result)\n",
    "#print(\"evaluate model complete.\")"
   ]
  },
  {
   "cell_type": "code",
   "execution_count": 18,
   "metadata": {},
   "outputs": [
    {
     "output_type": "execute_result",
     "data": {
      "text/plain": [
       "MinMaxScaler()"
      ]
     },
     "metadata": {},
     "execution_count": 18
    }
   ],
   "source": [
    "train_scaler = np.load(scaler_path,allow_pickle=True).take(0)\n",
    "train_scaler"
   ]
  },
  {
   "cell_type": "code",
   "execution_count": 19,
   "metadata": {},
   "outputs": [
    {
     "output_type": "stream",
     "name": "stdout",
     "text": [
      "predict: [ 91.8688551  128.40054016 158.30969644]\nreal [ 88. 159. 189.]\n"
     ]
    }
   ],
   "source": [
    "train_model = load_model(model_path)\n",
    "#load 归一化参数\n",
    "intput = test_x[0].reshape((1, windows_size, n_features))\n",
    "yhat = train_model.predict(intput, verbose=0)\n",
    "left = np.random.random((3,2))\n",
    "yhat = np.hstack((left,yhat.reshape(3,1)))\n",
    "yhat = train_scaler.inverse_transform(yhat)\n",
    "test_y_0 = train_scaler.inverse_transform(np.hstack((left,test_y[0].reshape(3,1))))\n",
    "print(\"predict:\", yhat[:,-1].reshape(3))\n",
    "print(\"real\", test_y_0[:,-1].reshape(3))"
   ]
  },
  {
   "cell_type": "code",
   "execution_count": null,
   "metadata": {
    "tags": []
   },
   "outputs": [],
   "source": [
    "predict = []\n",
    "real = []\n",
    "left = np.random.random((3,2))\n",
    "for i in range(len(test_x)):\n",
    "    if(i > 48*10):\n",
    "        break\n",
    "    index = -(i+1)\n",
    "    #real = df[index -2-2:index-2+1]\n",
    "    #print(\"index:\",index,\",real:\",real)\n",
    "    intput = test_x[index].reshape((1, windows_size, n_features))\n",
    "    yhat = train_model.predict(intput, verbose=0)\n",
    "    yhat = np.hstack((left,yhat.reshape(3,1)))\n",
    "    yhat = train_scaler.inverse_transform(yhat)\n",
    "\n",
    "    test_y_i = train_scaler.inverse_transform(np.hstack((left,test_y[index].reshape(3,1))))\n",
    "    predict.append(yhat[:,-1])\n",
    "    real.append(test_y_i[:,-1])\n",
    "    #print(\"predict:\", yhat[:,-1],\",real:\",test_y_i[:,-1])\n",
    "\n",
    "plt.plot(predict)\n",
    "plt.plot(real)\n",
    "plt.legend(['predict1','predict2','predict2', 'real1','real2','real2'])\n",
    "plt.show()"
   ]
  },
  {
   "cell_type": "code",
   "execution_count": null,
   "metadata": {},
   "outputs": [],
   "source": []
  }
 ]
}